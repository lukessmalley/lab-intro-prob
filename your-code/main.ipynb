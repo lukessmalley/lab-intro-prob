{
 "cells": [
  {
   "cell_type": "markdown",
   "metadata": {},
   "source": [
    "# Introduction To Probability\n",
    "## Challenge 1\n",
    "\n",
    "A and B are events of a probability space with $(\\omega, \\sigma, P)$ such that $P(A) = 0.3$, $P(B) = 0.6$ and $P(A \\cap B) = 0.1$\n",
    "\n",
    "Which of the following statements are false?\n",
    "* $P(A \\cup B) = 0.6$\n",
    "* $P(A \\cap B^{C}) = 0.2$\n",
    "* $P(A \\cap (B \\cup B^{C})) = 0.4$\n",
    "* $P(A^{C} \\cap B^{C}) = 0.3$\n",
    "* $P((A \\cap B)^{C}) = 0.9$"
   ]
  },
  {
   "cell_type": "code",
   "execution_count": 1,
   "metadata": {},
   "outputs": [
    {
     "data": {
      "text/plain": [
       "'\\nP(A U B) = P(A) + P(B) - P(A n B) = 0.3 + 0.6 - 0.18= 0.72 FALSE\\nP(A n Bc) = P(A) * P(Bc) = 0.3 * 0.4 = 0.12 FALSE\\nP(A n (B u Bc)) = P(A) * (P(B) + P(Bc) - P(B n Bc)) = 0.3 * (1 -0.24) = 0.24 FALSE\\nP(Ac n Bc) = 0.7 + 0.4 - (0.7 * 0.4)  = 1.1 - 0.28 = 0.82 FALSE\\nP((A n B)c) = (0.3 * 0.6)c = (0.18)c = 0.82 FALSE\\n'"
      ]
     },
     "execution_count": 1,
     "metadata": {},
     "output_type": "execute_result"
    }
   ],
   "source": [
    "## P(A) + P(B) - P(A ∩ B) = union\n",
    "\n",
    "\"\"\"\n",
    "P(A U B)=FALSE\n",
    "P(A n (B u Bc)) =FALSE\n",
    "P(Ac n Bc) =FALSE\n",
    "\"\"\""
   ]
  },
  {
   "cell_type": "markdown",
   "metadata": {},
   "source": [
    "## Challenge 2\n",
    "There is a box with 10 white balls, 12 red balls and 8 black balls. Calculate the probability of:\n",
    "* Taking a white ball out.\n",
    "* Taking a white ball out after taking a black ball out.\n",
    "* Taking a red ball out after taking a black and a red ball out.\n",
    "* Taking a red ball out after taking a black and a red ball out with reposition.\n",
    "\n",
    "**Hint**: Reposition means putting back the ball into the box after taking it out."
   ]
  },
  {
   "cell_type": "code",
   "execution_count": 2,
   "metadata": {},
   "outputs": [
    {
     "data": {
      "text/plain": [
       "' \\nIf you just want the probability of taking the next ball:\\nP(Taking a white ball out) = 10/(10 + 12 + 8) = 0.3 \\nP(Taking a white ball out after taking a black ball) = 10/29 = 0.35\\nP(Taking a red ball out after taking a black and red ball out) = 11/28 = 0.39\\nP(Taking a red ball out after taking a black and red ball out with repo) = 12/30 = 0.4\\n\\nIf you want to intersection of takign the next ball and the previous ball(s)\\nP(Taking a white ball out) = 0.3 \\nP(Taking a white ball out after taking a black ball) = 0.35 * 0.26 = 0.08\\nP(Taking a red ball out after taking a black and red ball out) =  0.39 * 0.26 * 0.41 = 0.04\\nP(Taking a red ball out after taking a black and red ball out with repo) =  0.4 * 0.4 * 0.26 = 0.04\\n\\n'"
      ]
     },
     "execution_count": 2,
     "metadata": {},
     "output_type": "execute_result"
    }
   ],
   "source": [
    "\"\"\" \n",
    "If you just want the probability of taking the next ball:\n",
    "P(Taking a white ball out) = 10/(10 + 12 + 8) = 0.3 \n",
    "P(Taking a white ball out after taking a black ball) = 10/29 = 0.35\n",
    "P(Taking a red ball out after taking a black and red ball out) = 11/28 = 0.39\n",
    "P(Taking a red ball out after taking a black and red ball out with repo) = 12/30 = 0.4\n",
    "\n",
    "If you want to intersection of taking the next ball and the previous ball(s)\n",
    "P(Taking a white ball out) = 0.3 \n",
    "P(Taking a white ball out after taking a black ball) = 0.35 * 0.26 = 0.08\n",
    "P(Taking a red ball out after taking a black and red ball out) =  0.39 * 0.26 * 0.41 = 0.04\n",
    "P(Taking a red ball out after taking a black and red ball out with repo) =  0.4 * 0.4 * 0.26 = 0.04\n",
    "\n",
    "\"\"\""
   ]
  },
  {
   "cell_type": "markdown",
   "metadata": {},
   "source": [
    "## Challenge 3\n",
    "\n",
    "You are planning to go on a picnic today but the morning is cloudy. You hate rain so you don't know whether to go out or stay home! To help you make a decision, you gather the following data about rainy days:\n",
    "\n",
    "* 50% of all rainy days start off cloudy!\n",
    "* Cloudy mornings are common. About 40% of days start cloudy. \n",
    "* This month is usually dry so only 3 of 30 days (10%) tend to be rainy. \n",
    "\n",
    "What is the chance of rain during the day?"
   ]
  },
  {
   "cell_type": "code",
   "execution_count": null,
   "metadata": {},
   "outputs": [],
   "source": [
    "\"\"\"\n",
    "0.4 * 0.5 * 0.1 = 0.02\n",
    "\"\"\""
   ]
  },
  {
   "cell_type": "markdown",
   "metadata": {},
   "source": [
    "## Challenge 4\n",
    "\n",
    "One thousand people were asked through a telephone survey whether they thought more street lighting is needed at night or not.\n",
    "\n",
    "Out of the 480 men that answered the survey, 324 said yes and 156 said no. On the other hand, out of the 520 women that answered, 351 said yes and 169 said no. \n",
    "\n",
    "We wonder if men and women have a different opinions about the street lighting matter. Is gender relevant or irrelevant to the question?\n",
    "\n",
    "Consider the following events:\n",
    "- The answer is yes, so the person that answered thinks that more street lighting is needed.\n",
    "- The person who answered is a man.\n",
    "\n",
    "We want to know if these events are independent, that is, if the fact of wanting more light depends on whether one is male or female. Are these events independent or not?\n",
    "\n",
    "**Hint**: To clearly compare the answers by gender, it is best to place the data in a table."
   ]
  },
  {
   "cell_type": "code",
   "execution_count": 8,
   "metadata": {},
   "outputs": [
    {
     "data": {
      "text/html": [
       "<div>\n",
       "<style scoped>\n",
       "    .dataframe tbody tr th:only-of-type {\n",
       "        vertical-align: middle;\n",
       "    }\n",
       "\n",
       "    .dataframe tbody tr th {\n",
       "        vertical-align: top;\n",
       "    }\n",
       "\n",
       "    .dataframe thead th {\n",
       "        text-align: right;\n",
       "    }\n",
       "</style>\n",
       "<table border=\"1\" class=\"dataframe\">\n",
       "  <thead>\n",
       "    <tr style=\"text-align: right;\">\n",
       "      <th></th>\n",
       "      <th>Gender</th>\n",
       "      <th>Yes</th>\n",
       "      <th>No</th>\n",
       "    </tr>\n",
       "  </thead>\n",
       "  <tbody>\n",
       "    <tr>\n",
       "      <th>0</th>\n",
       "      <td>Male</td>\n",
       "      <td>324</td>\n",
       "      <td>156</td>\n",
       "    </tr>\n",
       "    <tr>\n",
       "      <th>1</th>\n",
       "      <td>Female</td>\n",
       "      <td>351</td>\n",
       "      <td>169</td>\n",
       "    </tr>\n",
       "  </tbody>\n",
       "</table>\n",
       "</div>"
      ],
      "text/plain": [
       "   Gender  Yes   No\n",
       "0    Male  324  156\n",
       "1  Female  351  169"
      ]
     },
     "execution_count": 8,
     "metadata": {},
     "output_type": "execute_result"
    }
   ],
   "source": [
    "import pandas as pd\n",
    "Gender = ['Male','Female']\n",
    "Yes = [324,351]\n",
    "No = [156,169]\n",
    "df = pd.DataFrame(list(zip(Gender,Yes,No)), \n",
    "               columns =['Gender', 'Yes','No'])\n",
    "df.head()\n",
    "\n",
    "#A = probability of being a man 0.48 , probabilty of answering yes 480, 520. B =prob of answering yes = 0.67\n",
    "#Total number of men 480\n",
    "#P(A)*P(B) = P(A ∩ B) =     0.32 = 0.32\n",
    "\n",
    "#P(A|B) = P(A)\n",
    "\n",
    "#P(B|A) = P(B)"
   ]
  },
  {
   "cell_type": "code",
   "execution_count": null,
   "metadata": {},
   "outputs": [],
   "source": [
    "\"\"\"\n",
    "A = The probability of the person answering being a man is 0.48.\n",
    "B = The probability of the person answering yes is 0.67\n",
    "\n",
    "1. 0.48 * 0.67 = 0.32 AND 324/1000 = 0.32 TRUE!\n",
    "2. 324/675 = 0.48 AND A=0.48 TRUE!\n",
    "3. 324/480 = 0.67 and B=0.67 TRUE!\n",
    "\n",
    "The events are independent.\n",
    "\n",
    "\"\"\""
   ]
  }
 ],
 "metadata": {
  "kernelspec": {
   "display_name": "Python 3",
   "language": "python",
   "name": "python3"
  },
  "language_info": {
   "codemirror_mode": {
    "name": "ipython",
    "version": 3
   },
   "file_extension": ".py",
   "mimetype": "text/x-python",
   "name": "python",
   "nbconvert_exporter": "python",
   "pygments_lexer": "ipython3",
   "version": "3.7.3"
  }
 },
 "nbformat": 4,
 "nbformat_minor": 2
}
